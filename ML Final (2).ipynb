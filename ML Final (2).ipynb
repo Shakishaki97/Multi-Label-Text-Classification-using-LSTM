{
 "cells": [
  {
   "cell_type": "code",
   "execution_count": 3,
   "id": "1c356d55-b26b-4fc3-8928-1d26216c7912",
   "metadata": {},
   "outputs": [],
   "source": [
    "import tensorflow as tf\n",
    "from tensorflow.keras import layers, models\n",
    "from tensorflow.keras.layers import TextVectorization, Embedding, LSTM, Dense, Dropout, Bidirectional\n",
    "from tensorflow.keras.callbacks import EarlyStopping, ReduceLROnPlateau\n",
    "import matplotlib.pyplot as plt\n",
    "from sklearn.model_selection import train_test_split\n",
    "import numpy as np\n",
    "import pandas as pd\n",
    "from ast import literal_eval"
   ]
  },
  {
   "cell_type": "code",
   "execution_count": 5,
   "id": "f9993249-3f02-48f2-95db-2e196145ca85",
   "metadata": {},
   "outputs": [],
   "source": [
    "# Load dataset\n",
    "df = pd.read_csv(\"https://github.com/soumik12345/multi-label-text-classification/releases/download/v0.2/arxiv_data.csv\")"
   ]
  },
  {
   "cell_type": "code",
   "execution_count": 7,
   "id": "1202f8d7-d2e6-4035-858d-3aacdf41144e",
   "metadata": {},
   "outputs": [
    {
     "data": {
      "text/html": [
       "<div>\n",
       "<style scoped>\n",
       "    .dataframe tbody tr th:only-of-type {\n",
       "        vertical-align: middle;\n",
       "    }\n",
       "\n",
       "    .dataframe tbody tr th {\n",
       "        vertical-align: top;\n",
       "    }\n",
       "\n",
       "    .dataframe thead th {\n",
       "        text-align: right;\n",
       "    }\n",
       "</style>\n",
       "<table border=\"1\" class=\"dataframe\">\n",
       "  <thead>\n",
       "    <tr style=\"text-align: right;\">\n",
       "      <th></th>\n",
       "      <th>titles</th>\n",
       "      <th>summaries</th>\n",
       "      <th>terms</th>\n",
       "    </tr>\n",
       "  </thead>\n",
       "  <tbody>\n",
       "    <tr>\n",
       "      <th>0</th>\n",
       "      <td>Survey on Semantic Stereo Matching / Semantic ...</td>\n",
       "      <td>Stereo matching is one of the widely used tech...</td>\n",
       "      <td>['cs.CV', 'cs.LG']</td>\n",
       "    </tr>\n",
       "    <tr>\n",
       "      <th>1</th>\n",
       "      <td>FUTURE-AI: Guiding Principles and Consensus Re...</td>\n",
       "      <td>The recent advancements in artificial intellig...</td>\n",
       "      <td>['cs.CV', 'cs.AI', 'cs.LG']</td>\n",
       "    </tr>\n",
       "    <tr>\n",
       "      <th>2</th>\n",
       "      <td>Enforcing Mutual Consistency of Hard Regions f...</td>\n",
       "      <td>In this paper, we proposed a novel mutual cons...</td>\n",
       "      <td>['cs.CV', 'cs.AI']</td>\n",
       "    </tr>\n",
       "    <tr>\n",
       "      <th>3</th>\n",
       "      <td>Parameter Decoupling Strategy for Semi-supervi...</td>\n",
       "      <td>Consistency training has proven to be an advan...</td>\n",
       "      <td>['cs.CV']</td>\n",
       "    </tr>\n",
       "    <tr>\n",
       "      <th>4</th>\n",
       "      <td>Background-Foreground Segmentation for Interio...</td>\n",
       "      <td>To ensure safety in automated driving, the cor...</td>\n",
       "      <td>['cs.CV', 'cs.LG']</td>\n",
       "    </tr>\n",
       "  </tbody>\n",
       "</table>\n",
       "</div>"
      ],
      "text/plain": [
       "                                              titles  \\\n",
       "0  Survey on Semantic Stereo Matching / Semantic ...   \n",
       "1  FUTURE-AI: Guiding Principles and Consensus Re...   \n",
       "2  Enforcing Mutual Consistency of Hard Regions f...   \n",
       "3  Parameter Decoupling Strategy for Semi-supervi...   \n",
       "4  Background-Foreground Segmentation for Interio...   \n",
       "\n",
       "                                           summaries  \\\n",
       "0  Stereo matching is one of the widely used tech...   \n",
       "1  The recent advancements in artificial intellig...   \n",
       "2  In this paper, we proposed a novel mutual cons...   \n",
       "3  Consistency training has proven to be an advan...   \n",
       "4  To ensure safety in automated driving, the cor...   \n",
       "\n",
       "                         terms  \n",
       "0           ['cs.CV', 'cs.LG']  \n",
       "1  ['cs.CV', 'cs.AI', 'cs.LG']  \n",
       "2           ['cs.CV', 'cs.AI']  \n",
       "3                    ['cs.CV']  \n",
       "4           ['cs.CV', 'cs.LG']  "
      ]
     },
     "execution_count": 7,
     "metadata": {},
     "output_type": "execute_result"
    }
   ],
   "source": [
    "df.head()"
   ]
  },
  {
   "cell_type": "code",
   "execution_count": 9,
   "id": "b71fab67-c4b5-49ba-ab76-60c6d6d7e125",
   "metadata": {},
   "outputs": [
    {
     "name": "stdout",
     "output_type": "stream",
     "text": [
      "<class 'pandas.core.frame.DataFrame'>\n",
      "RangeIndex: 51774 entries, 0 to 51773\n",
      "Data columns (total 3 columns):\n",
      " #   Column     Non-Null Count  Dtype \n",
      "---  ------     --------------  ----- \n",
      " 0   titles     51774 non-null  object\n",
      " 1   summaries  51774 non-null  object\n",
      " 2   terms      51774 non-null  object\n",
      "dtypes: object(3)\n",
      "memory usage: 1.2+ MB\n"
     ]
    }
   ],
   "source": [
    "df.info()"
   ]
  },
  {
   "cell_type": "code",
   "execution_count": 11,
   "id": "8867e5d8-f3e3-4562-9181-2fcfa31c67fb",
   "metadata": {},
   "outputs": [
    {
     "data": {
      "text/html": [
       "<div>\n",
       "<style scoped>\n",
       "    .dataframe tbody tr th:only-of-type {\n",
       "        vertical-align: middle;\n",
       "    }\n",
       "\n",
       "    .dataframe tbody tr th {\n",
       "        vertical-align: top;\n",
       "    }\n",
       "\n",
       "    .dataframe thead th {\n",
       "        text-align: right;\n",
       "    }\n",
       "</style>\n",
       "<table border=\"1\" class=\"dataframe\">\n",
       "  <thead>\n",
       "    <tr style=\"text-align: right;\">\n",
       "      <th></th>\n",
       "      <th>titles</th>\n",
       "      <th>summaries</th>\n",
       "      <th>terms</th>\n",
       "    </tr>\n",
       "  </thead>\n",
       "  <tbody>\n",
       "    <tr>\n",
       "      <th>count</th>\n",
       "      <td>51774</td>\n",
       "      <td>51774</td>\n",
       "      <td>51774</td>\n",
       "    </tr>\n",
       "    <tr>\n",
       "      <th>unique</th>\n",
       "      <td>38972</td>\n",
       "      <td>38979</td>\n",
       "      <td>3157</td>\n",
       "    </tr>\n",
       "    <tr>\n",
       "      <th>top</th>\n",
       "      <td>Transformers in Vision: A Survey</td>\n",
       "      <td>Astounding results from Transformer models on ...</td>\n",
       "      <td>['cs.CV']</td>\n",
       "    </tr>\n",
       "    <tr>\n",
       "      <th>freq</th>\n",
       "      <td>7</td>\n",
       "      <td>7</td>\n",
       "      <td>17369</td>\n",
       "    </tr>\n",
       "  </tbody>\n",
       "</table>\n",
       "</div>"
      ],
      "text/plain": [
       "                                  titles  \\\n",
       "count                              51774   \n",
       "unique                             38972   \n",
       "top     Transformers in Vision: A Survey   \n",
       "freq                                   7   \n",
       "\n",
       "                                                summaries      terms  \n",
       "count                                               51774      51774  \n",
       "unique                                              38979       3157  \n",
       "top     Astounding results from Transformer models on ...  ['cs.CV']  \n",
       "freq                                                    7      17369  "
      ]
     },
     "execution_count": 11,
     "metadata": {},
     "output_type": "execute_result"
    }
   ],
   "source": [
    "df.describe()"
   ]
  },
  {
   "cell_type": "code",
   "execution_count": 13,
   "id": "928c75e0-f8b5-4d71-8e10-1f26686184f8",
   "metadata": {},
   "outputs": [
    {
     "name": "stdout",
     "output_type": "stream",
     "text": [
      "Number of duplicate titles: 12802\n",
      "                                                  titles  \\\n",
      "1186      Partial Membership Latent Dirichlet Allocation   \n",
      "1449   Towards to Robust and Generalized Medical Imag...   \n",
      "1518   Box-Adapt: Domain-Adaptive Medical Image Segme...   \n",
      "1530   PoissonSeg: Semi-Supervised Few-Shot Medical I...   \n",
      "1570   SimCVD: Simple Contrastive Voxel-Wise Represen...   \n",
      "...                                                  ...   \n",
      "51737  Graph Convolution: A High-Order and Adaptive A...   \n",
      "51741  ChemGAN challenge for drug discovery: can AI r...   \n",
      "51766  Classifying sequences by the optimized dissimi...   \n",
      "51769  Hierarchically-coupled hidden Markov models fo...   \n",
      "51773  SparseCodePicking: feature extraction in mass ...   \n",
      "\n",
      "                                               summaries  \\\n",
      "1186   Topic models (e.g., pLSA, LDA, SLDA) have been...   \n",
      "1449   To mitigate the radiologist's workload, comput...   \n",
      "1518   Deep learning has achieved remarkable success ...   \n",
      "1530   The application of deep learning to medical im...   \n",
      "1570   Automated segmentation in medical image analys...   \n",
      "...                                                  ...   \n",
      "51737  In this paper, we presented a novel convolutio...   \n",
      "51741  Generating molecules with desired chemical pro...   \n",
      "51766  We evaluate a version of the recently-proposed...   \n",
      "51769  We address the problem of analyzing sets of no...   \n",
      "51773  Mass spectrometry (MS) is an important techniq...   \n",
      "\n",
      "                                                   terms  \n",
      "1186                                ['stat.ML', 'cs.CV']  \n",
      "1449                                  ['cs.CV', 'cs.AI']  \n",
      "1518                                           ['cs.CV']  \n",
      "1530                                  ['cs.CV', 'cs.LG']  \n",
      "1570                         ['cs.CV', 'cs.AI', 'cs.LG']  \n",
      "...                                                  ...  \n",
      "51737                               ['cs.LG', 'stat.ML']  \n",
      "51741                      ['stat.ML', 'cs.AI', 'cs.LG']  \n",
      "51766  ['cs.CV', 'cs.AI', 'physics.bio-ph', 'q-bio.BM...  \n",
      "51769          ['stat.ML', 'physics.bio-ph', 'q-bio.QM']  \n",
      "51773  ['stat.ML', 'physics.med-ph', 'stat.AP', 'stat...  \n",
      "\n",
      "[12802 rows x 3 columns]\n"
     ]
    }
   ],
   "source": [
    "# Print duplicate values (titles)\n",
    "duplicate_titles = df[df[\"titles\"].duplicated()]\n",
    "print(f\"Number of duplicate titles: {len(duplicate_titles)}\")\n",
    "print(duplicate_titles)"
   ]
  },
  {
   "cell_type": "code",
   "execution_count": 15,
   "id": "fd8007f0-720c-4aba-99b2-d5e17688d8d2",
   "metadata": {},
   "outputs": [],
   "source": [
    "# Remove duplicate titles\n",
    "df = df[~df[\"titles\"].duplicated()]"
   ]
  },
  {
   "cell_type": "code",
   "execution_count": 17,
   "id": "66116aa5-3ee4-474b-9a4f-212fc84431e5",
   "metadata": {},
   "outputs": [],
   "source": [
    "# Group by terms and filter those with more than one occurrence\n",
    "df_filtered = df.groupby(\"terms\").filter(lambda x: len(x) > 1)\n",
    "df_filtered[\"terms\"] = df_filtered[\"terms\"].apply(literal_eval)"
   ]
  },
  {
   "cell_type": "code",
   "execution_count": 19,
   "id": "eb3bd269-1946-4d41-999c-0f541b8295d3",
   "metadata": {},
   "outputs": [
    {
     "name": "stdout",
     "output_type": "stream",
     "text": [
      "Filtered dataset shape: (36651, 3)\n"
     ]
    }
   ],
   "source": [
    "# Display dataset shape after filtering\n",
    "print(f\"Filtered dataset shape: {df_filtered.shape}\")"
   ]
  },
  {
   "cell_type": "code",
   "execution_count": 21,
   "id": "4d6956d8-dc20-483d-8887-6d1e3afd217c",
   "metadata": {},
   "outputs": [
    {
     "name": "stdout",
     "output_type": "stream",
     "text": [
      "Training data shape: (32985, 3)\n",
      "Validation data shape: (1833, 3)\n",
      "Test data shape: (1833, 3)\n"
     ]
    }
   ],
   "source": [
    "# Train-test split (90% training, 10% testing)\n",
    "train_df, test_df = train_test_split(df_filtered, test_size=0.1, stratify=df_filtered[\"terms\"].values)\n",
    "\n",
    "# 50% of the test set for validation\n",
    "val_df = test_df.sample(frac=0.5)\n",
    "test_df.drop(val_df.index, inplace=True)\n",
    "\n",
    "# Display dataset shapes for train, test, and validation splits\n",
    "print(f\"Training data shape: {train_df.shape}\")\n",
    "print(f\"Validation data shape: {val_df.shape}\")\n",
    "print(f\"Test data shape: {test_df.shape}\")"
   ]
  },
  {
   "cell_type": "code",
   "execution_count": 23,
   "id": "c51c2516-ab55-441c-b7ba-f6844b2fa171",
   "metadata": {},
   "outputs": [],
   "source": [
    "# Tokenization and text preprocessing\n",
    "max_seqlen = 150\n",
    "text_vectorizer = TextVectorization(max_tokens=20000, output_mode=\"int\", output_sequence_length=max_seqlen)\n",
    "text_vectorizer.adapt(train_df[\"summaries\"].values)"
   ]
  },
  {
   "cell_type": "code",
   "execution_count": 25,
   "id": "bbd98b4b-9445-47e5-941c-9dfa465bdd98",
   "metadata": {},
   "outputs": [],
   "source": [
    "# String lookup for label binarization\n",
    "terms = tf.ragged.constant(train_df[\"terms\"].values)\n",
    "lookup = tf.keras.layers.StringLookup(output_mode=\"multi_hot\")\n",
    "lookup.adapt(terms)\n",
    "vocab = lookup.get_vocabulary()"
   ]
  },
  {
   "cell_type": "code",
   "execution_count": 27,
   "id": "35c2c723-be7b-47dc-8469-21221e1b2719",
   "metadata": {},
   "outputs": [],
   "source": [
    "# Dataset preparation function\n",
    "def make_dataset(dataframe, is_train=True):\n",
    "    labels = tf.ragged.constant(dataframe[\"terms\"].values)\n",
    "    label_binarized = lookup(labels).numpy()\n",
    "    dataset = tf.data.Dataset.from_tensor_slices((dataframe[\"summaries\"].values, label_binarized))\n",
    "    dataset = dataset.map(lambda text, label: (text_vectorizer(text), label))\n",
    "    dataset = dataset.shuffle(1280) if is_train else dataset\n",
    "    return dataset.batch(128).prefetch(tf.data.AUTOTUNE)\n",
    "\n",
    "train_dataset = make_dataset(train_df, is_train=True)\n",
    "validation_dataset = make_dataset(val_df, is_train=False)\n",
    "test_dataset = make_dataset(test_df, is_train=False)"
   ]
  },
  {
   "cell_type": "code",
   "execution_count": 29,
   "id": "7f06d878-d8b0-4e31-8410-b7e62d75385b",
   "metadata": {},
   "outputs": [
    {
     "name": "stdout",
     "output_type": "stream",
     "text": [
      "Number of batches in training dataset: 258\n",
      "Number of batches in validation dataset: 15\n",
      "Number of batches in test dataset: 15\n"
     ]
    }
   ],
   "source": [
    "# Display the number of batches in each dataset\n",
    "print(f\"Number of batches in training dataset: {len(train_dataset)}\")\n",
    "print(f\"Number of batches in validation dataset: {len(validation_dataset)}\")\n",
    "print(f\"Number of batches in test dataset: {len(test_dataset)}\")"
   ]
  },
  {
   "cell_type": "code",
   "execution_count": 31,
   "id": "8b00af92-3f20-4337-9c44-cff57cfe3ade",
   "metadata": {},
   "outputs": [],
   "source": [
    "# Improved LSTM Model Definition\n",
    "def make_lstm_model():\n",
    "    model = models.Sequential([\n",
    "        Embedding(input_dim=20000, output_dim=128, mask_zero=True),\n",
    "        Bidirectional(LSTM(64, return_sequences=True)),\n",
    "        Bidirectional(LSTM(64)),\n",
    "        Dropout(0.3),\n",
    "        Dense(256, activation=\"relu\"),\n",
    "        Dropout(0.3),\n",
    "        Dense(lookup.vocabulary_size(), activation=\"sigmoid\")  # Multi-label classification output\n",
    "    ])\n",
    "    return model"
   ]
  },
  {
   "cell_type": "code",
   "execution_count": 33,
   "id": "c0269d82-e6e6-44e7-a8ae-a0b5308ca1a0",
   "metadata": {},
   "outputs": [],
   "source": [
    "# Compile the model\n",
    "lstm_model = make_lstm_model()\n",
    "lstm_model.compile(loss=\"binary_crossentropy\", optimizer=\"adam\", metrics=[\"binary_accuracy\"])"
   ]
  },
  {
   "cell_type": "code",
   "execution_count": 35,
   "id": "a04b8cda-7882-4a66-ac80-77b424a9c3ce",
   "metadata": {},
   "outputs": [],
   "source": [
    "# Callbacks for EarlyStopping and Learning Rate Scheduling\n",
    "early_stopping = EarlyStopping(monitor=\"val_loss\", patience=3, restore_best_weights=True)\n",
    "lr_scheduler = ReduceLROnPlateau(monitor=\"val_loss\", factor=0.1, patience=2, min_lr=1e-6)"
   ]
  },
  {
   "cell_type": "code",
   "execution_count": 37,
   "id": "6240942c-0aab-4aa7-97ec-6e3f8846ae78",
   "metadata": {},
   "outputs": [
    {
     "name": "stdout",
     "output_type": "stream",
     "text": [
      "Epoch 1/20\n",
      "\u001b[1m258/258\u001b[0m \u001b[32m━━━━━━━━━━━━━━━━━━━━\u001b[0m\u001b[37m\u001b[0m \u001b[1m902s\u001b[0m 3s/step - binary_accuracy: 0.9560 - loss: 0.1496 - val_binary_accuracy: 0.9894 - val_loss: 0.0269 - learning_rate: 0.0010\n",
      "Epoch 2/20\n",
      "\u001b[1m258/258\u001b[0m \u001b[32m━━━━━━━━━━━━━━━━━━━━\u001b[0m\u001b[37m\u001b[0m \u001b[1m725s\u001b[0m 3s/step - binary_accuracy: 0.9888 - loss: 0.0286 - val_binary_accuracy: 0.9894 - val_loss: 0.0268 - learning_rate: 0.0010\n",
      "Epoch 3/20\n",
      "\u001b[1m258/258\u001b[0m \u001b[32m━━━━━━━━━━━━━━━━━━━━\u001b[0m\u001b[37m\u001b[0m \u001b[1m712s\u001b[0m 3s/step - binary_accuracy: 0.9891 - loss: 0.0281 - val_binary_accuracy: 0.9894 - val_loss: 0.0267 - learning_rate: 0.0010\n",
      "Epoch 4/20\n",
      "\u001b[1m258/258\u001b[0m \u001b[32m━━━━━━━━━━━━━━━━━━━━\u001b[0m\u001b[37m\u001b[0m \u001b[1m535s\u001b[0m 2s/step - binary_accuracy: 0.9907 - loss: 0.0259 - val_binary_accuracy: 0.9942 - val_loss: 0.0196 - learning_rate: 0.0010\n",
      "Epoch 5/20\n",
      "\u001b[1m258/258\u001b[0m \u001b[32m━━━━━━━━━━━━━━━━━━━━\u001b[0m\u001b[37m\u001b[0m \u001b[1m744s\u001b[0m 3s/step - binary_accuracy: 0.9940 - loss: 0.0207 - val_binary_accuracy: 0.9942 - val_loss: 0.0195 - learning_rate: 0.0010\n",
      "Epoch 6/20\n",
      "\u001b[1m258/258\u001b[0m \u001b[32m━━━━━━━━━━━━━━━━━━━━\u001b[0m\u001b[37m\u001b[0m \u001b[1m508s\u001b[0m 2s/step - binary_accuracy: 0.9943 - loss: 0.0199 - val_binary_accuracy: 0.9942 - val_loss: 0.0195 - learning_rate: 0.0010\n",
      "Epoch 7/20\n",
      "\u001b[1m258/258\u001b[0m \u001b[32m━━━━━━━━━━━━━━━━━━━━\u001b[0m\u001b[37m\u001b[0m \u001b[1m531s\u001b[0m 2s/step - binary_accuracy: 0.9944 - loss: 0.0194 - val_binary_accuracy: 0.9942 - val_loss: 0.0196 - learning_rate: 0.0010\n",
      "Epoch 8/20\n",
      "\u001b[1m258/258\u001b[0m \u001b[32m━━━━━━━━━━━━━━━━━━━━\u001b[0m\u001b[37m\u001b[0m \u001b[1m594s\u001b[0m 2s/step - binary_accuracy: 0.9947 - loss: 0.0186 - val_binary_accuracy: 0.9942 - val_loss: 0.0198 - learning_rate: 1.0000e-04\n",
      "Epoch 9/20\n",
      "\u001b[1m258/258\u001b[0m \u001b[32m━━━━━━━━━━━━━━━━━━━━\u001b[0m\u001b[37m\u001b[0m \u001b[1m526s\u001b[0m 2s/step - binary_accuracy: 0.9947 - loss: 0.0185 - val_binary_accuracy: 0.9941 - val_loss: 0.0198 - learning_rate: 1.0000e-04\n"
     ]
    }
   ],
   "source": [
    "# Train the LSTM model\n",
    "history = lstm_model.fit(\n",
    "    train_dataset,\n",
    "    validation_data=validation_dataset,\n",
    "    epochs=20,\n",
    "    callbacks=[early_stopping, lr_scheduler]\n",
    ")"
   ]
  },
  {
   "cell_type": "code",
   "execution_count": 39,
   "id": "7ea1a2b8-3e1f-48d2-91d2-a0454210dad3",
   "metadata": {},
   "outputs": [
    {
     "name": "stdout",
     "output_type": "stream",
     "text": [
      "\u001b[1m15/15\u001b[0m \u001b[32m━━━━━━━━━━━━━━━━━━━━\u001b[0m\u001b[37m\u001b[0m \u001b[1m11s\u001b[0m 712ms/step - binary_accuracy: 0.9941 - loss: 0.0197\n",
      "LSTM Test Accuracy: 99.42%\n"
     ]
    }
   ],
   "source": [
    "# Evaluate the model\n",
    "_, lstm_acc = lstm_model.evaluate(test_dataset)\n",
    "print(f\"LSTM Test Accuracy: {lstm_acc * 100:.2f}%\")"
   ]
  },
  {
   "cell_type": "code",
   "execution_count": 41,
   "id": "b31229fe-fce5-40a1-8f6e-5992c878ee7b",
   "metadata": {},
   "outputs": [
    {
     "name": "stdout",
     "output_type": "stream",
     "text": [
      "\u001b[1m1/1\u001b[0m \u001b[32m━━━━━━━━━━━━━━━━━━━━\u001b[0m\u001b[37m\u001b[0m \u001b[1m2s\u001b[0m 2s/step\n"
     ]
    }
   ],
   "source": [
    "# Sample Predictions\n",
    "sample_texts = [\n",
    "    \"A study on the performance of deep learning models in NLP tasks.\",\n",
    "    \"Recent advances in quantum computing algorithms for optimization problems.\"\n",
    "]\n",
    "\n",
    "sample_texts_vectorized = text_vectorizer(sample_texts)\n",
    "predictions = lstm_model.predict(sample_texts_vectorized)"
   ]
  },
  {
   "cell_type": "code",
   "execution_count": 43,
   "id": "b1cd1360-c8ea-4973-b054-1d542c0477d7",
   "metadata": {},
   "outputs": [
    {
     "name": "stdout",
     "output_type": "stream",
     "text": [
      "\u001b[1m1/1\u001b[0m \u001b[32m━━━━━━━━━━━━━━━━━━━━\u001b[0m\u001b[37m\u001b[0m \u001b[1m2s\u001b[0m 2s/step\n",
      "Text 1: A study on the performance of deep learning models in NLP tasks.\n",
      "LSTM Predictions: ['cs.LG', 'stat.ML']\n",
      "--------------------------------------------------\n",
      "Text 2: Recent advances in quantum computing algorithms for optimization problems.\n",
      "LSTM Predictions: ['cs.LG', 'stat.ML']\n",
      "--------------------------------------------------\n",
      "Text 3: Exploring the effectiveness of reinforcement learning in game AI development.\n",
      "LSTM Predictions: ['cs.LG', 'stat.ML']\n",
      "--------------------------------------------------\n",
      "Text 4: A new approach to convolutional neural networks for image classification.\n",
      "LSTM Predictions: ['cs.CV']\n",
      "--------------------------------------------------\n",
      "Text 5: The impact of artificial intelligence in healthcare decision-making.\n",
      "LSTM Predictions: ['cs.LG', 'stat.ML']\n",
      "--------------------------------------------------\n",
      "Text 6: Understanding the role of graph neural networks in social network analysis.\n",
      "LSTM Predictions: ['cs.LG', 'stat.ML']\n",
      "--------------------------------------------------\n",
      "Text 7: Applying transformer models for document summarization and question answering.\n",
      "LSTM Predictions: ['cs.LG', 'stat.ML']\n",
      "--------------------------------------------------\n",
      "Text 8: The use of generative adversarial networks for realistic image synthesis.\n",
      "LSTM Predictions: ['cs.CV', 'cs.LG']\n",
      "--------------------------------------------------\n",
      "Text 9: Advancements in cybersecurity using machine learning techniques.\n",
      "LSTM Predictions: ['cs.LG', 'stat.ML']\n",
      "--------------------------------------------------\n",
      "Text 10: Improving sentiment analysis with large language models and BERT embeddings.\n",
      "LSTM Predictions: ['cs.LG', 'stat.ML']\n",
      "--------------------------------------------------\n"
     ]
    }
   ],
   "source": [
    "# Sample texts for prediction\n",
    "sample_texts = [\n",
    "    \"A study on the performance of deep learning models in NLP tasks.\",\n",
    "    \"Recent advances in quantum computing algorithms for optimization problems.\",\n",
    "    \"Exploring the effectiveness of reinforcement learning in game AI development.\",\n",
    "    \"A new approach to convolutional neural networks for image classification.\",\n",
    "    \"The impact of artificial intelligence in healthcare decision-making.\",\n",
    "    \"Understanding the role of graph neural networks in social network analysis.\",\n",
    "    \"Applying transformer models for document summarization and question answering.\",\n",
    "    \"The use of generative adversarial networks for realistic image synthesis.\",\n",
    "    \"Advancements in cybersecurity using machine learning techniques.\",\n",
    "    \"Improving sentiment analysis with large language models and BERT embeddings.\"\n",
    "]\n",
    "\n",
    "# Convert texts to numerical representations\n",
    "sample_texts_vectorized = text_vectorizer(sample_texts)\n",
    "\n",
    "# Get model predictions\n",
    "predictions = lstm_model.predict(sample_texts_vectorized)\n",
    "\n",
    "# Function to convert predictions to readable labels\n",
    "def invert_multi_hot(predictions, threshold=0.5, top_k=3):\n",
    "    \"\"\"Convert multi-hot predictions to class labels with a threshold.\"\"\"\n",
    "    sorted_indices = np.argsort(-predictions)  # Sort in descending order\n",
    "    return [vocab[i] for i in sorted_indices[:top_k] if predictions[i] >= threshold]\n",
    "\n",
    "# Print predictions for multiple texts\n",
    "for i, text in enumerate(sample_texts):\n",
    "    print(f\"Text {i+1}: {text}\")\n",
    "    print(f\"LSTM Predictions: {invert_multi_hot(predictions[i])}\")\n",
    "    print(\"-\" * 50)"
   ]
  },
  {
   "cell_type": "code",
   "execution_count": 45,
   "id": "1a5ebb31-2be5-4ba5-a95e-c8b0605e76da",
   "metadata": {},
   "outputs": [],
   "source": [
    "# Plotting training and validation loss/accuracy\n",
    "def plot_results(history):\n",
    "    plt.figure(figsize=(12, 5))\n",
    "\n",
    "    # Plot loss\n",
    "    plt.subplot(1, 2, 1)\n",
    "    plt.plot(history.history['loss'], label='train_loss')\n",
    "    plt.plot(history.history['val_loss'], label='val_loss')\n",
    "    plt.xlabel(\"Epochs\")\n",
    "    plt.ylabel(\"Loss\")\n",
    "    plt.legend()\n",
    "    plt.grid()\n",
    "\n",
    "    # Plot accuracy\n",
    "    plt.subplot(1, 2, 2)\n",
    "    plt.plot(history.history['binary_accuracy'], label='train_accuracy')\n",
    "    plt.plot(history.history['val_binary_accuracy'], label='val_accuracy')\n",
    "    plt.xlabel(\"Epochs\")\n",
    "    plt.ylabel(\"Accuracy\")\n",
    "    plt.legend()\n",
    "    plt.grid()\n",
    "\n",
    "    plt.tight_layout()\n",
    "    plt.show()"
   ]
  },
  {
   "cell_type": "code",
   "execution_count": 47,
   "id": "cc351f3a-eea5-4e99-9d72-72f7afdf4004",
   "metadata": {},
   "outputs": [
    {
     "data": {
      "image/png": "[encoded data removed]",
      "text/plain": [
       "<Figure size 1200x500 with 2 Axes>"
      ]
     },
     "metadata": {},
     "output_type": "display_data"
    }
   ],
   "source": [
    "# Call the plot function to visualize the results\n",
    "plot_results(history)"
   ]
  },
  {
   "cell_type": "code",
   "execution_count": null,
   "id": "5d6f6b64-89be-47c8-8eab-a8f100cfaa0d",
   "metadata": {},
   "outputs": [],
   "source": []
  }
 ],
 "metadata": {
  "kernelspec": {
   "display_name": "Python [conda env:base] *",
   "language": "python",
   "name": "conda-base-py"
  },
  "language_info": {
   "codemirror_mode": {
    "name": "ipython",
    "version": 3
   },
   "file_extension": ".py",
   "mimetype": "text/x-python",
   "name": "python",
   "nbconvert_exporter": "python",
   "pygments_lexer": "ipython3",
   "version": "3.12.7"
  }
 },
 "nbformat": 4,
 "nbformat_minor": 5
}
